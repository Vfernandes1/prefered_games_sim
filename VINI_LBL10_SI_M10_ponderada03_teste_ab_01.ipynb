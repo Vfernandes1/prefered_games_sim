{
  "nbformat": 4,
  "nbformat_minor": 0,
  "metadata": {
    "colab": {
      "provenance": []
    },
    "kernelspec": {
      "name": "python3",
      "display_name": "Python 3"
    },
    "language_info": {
      "name": "python"
    }
  },
  "cells": [
    {
      "cell_type": "markdown",
      "source": [
        "# Aluno: Vinícius Oliveira Fernandes\n",
        "# Ponderada 03\n",
        "\n",
        "## Implementação de Teste A/B em Simulador de Preferências de Jogos"
      ],
      "metadata": {
        "id": "FVx3zjsL33YA"
      }
    },
    {
      "cell_type": "code",
      "execution_count": 1,
      "metadata": {
        "id": "BfRopVz5AJqN",
        "colab": {
          "base_uri": "https://localhost:8080/"
        },
        "outputId": "bd172d19-38ed-4fd8-fe68-6491a4f60dcd"
      },
      "outputs": [
        {
          "output_type": "stream",
          "name": "stdout",
          "text": [
            "Relatório de Resultados do Teste A/B\n",
            "===================================\n",
            "Escolhas Antes da Alteração:\n",
            "Jogo A: 1 escolhas\n",
            "Jogo B: 1 escolhas\n",
            "\n",
            "Escolhas Depois da Alteração:\n",
            "Jogo A: 1 escolhas\n",
            "Jogo B: 1 escolhas\n",
            "\n",
            "Análise:\n",
            "O jogo Jogo A teve uma variação de 0 escolhas após a alteração.\n",
            "O jogo Jogo B teve uma variação de 0 escolhas após a alteração.\n"
          ]
        }
      ],
      "source": [
        "import random\n",
        "\n",
        "class Usuario:\n",
        "    def __init__(self, idade, genero, preferencias_genero, tempo_medio_jogo):\n",
        "        self.idade = idade\n",
        "        self.genero = genero\n",
        "        self.preferencias_genero = preferencias_genero\n",
        "        self.tempo_medio_jogo = tempo_medio_jogo\n",
        "\n",
        "class Jogo:\n",
        "    def __init__(self, nome, genero, faixa_etaria, tempo_medio_jogo):\n",
        "        self.nome = nome\n",
        "        self.genero = genero\n",
        "        self.faixa_etaria = faixa_etaria\n",
        "        self.tempo_medio_jogo = tempo_medio_jogo\n",
        "\n",
        "# Simulação de dados de usuários e jogos (estes são exemplos, você pode alterá-los conforme necessário)\n",
        "usuarios = [Usuario(20, \"Masculino\", [\"Ação\"], 60), Usuario(25, \"Feminino\", [\"Aventura\"], 50)]\n",
        "jogos = [Jogo(\"Jogo A\", \"Ação\", 18, 40), Jogo(\"Jogo B\", \"Aventura\", 12, 30)]\n",
        "\n",
        "def escolher_jogo(usuario, jogos):\n",
        "    jogos_preferidos = [jogo for jogo in jogos if jogo.genero in usuario.preferencias_genero]\n",
        "    return random.choice(jogos_preferidos) if jogos_preferidos else None\n",
        "\n",
        "# IMPLEMENTE AQUI: Função de Teste A/B\n",
        "def aplicar_teste_ab():\n",
        "    # Alterar o tempo médio de jogo do \"Jogo A\"\n",
        "    for jogo in jogos:\n",
        "        if jogo.nome == \"Jogo A\":\n",
        "            jogo.tempo_medio_jogo = 60  # Nova duração do jogo para o teste A/B\n",
        "\n",
        "# Coleta de dados para a fase antes da alteração\n",
        "def coletar_dados_teste_ab():\n",
        "    escolhas_antes = [escolher_jogo(usuario, jogos) for usuario in usuarios]\n",
        "\n",
        "    # Aplicar a alteração\n",
        "    aplicar_teste_ab()\n",
        "\n",
        "    escolhas_depois = [escolher_jogo(usuario, jogos) for usuario in usuarios]\n",
        "\n",
        "    return escolhas_antes, escolhas_depois\n",
        "\n",
        "# Análise dos resultados\n",
        "def analisar_resultados(escolhas_antes, escolhas_depois):\n",
        "    escolhas_antes_contagem = {jogo.nome: 0 for jogo in jogos}\n",
        "    escolhas_depois_contagem = {jogo.nome: 0 for jogo in jogos}\n",
        "\n",
        "    for escolha in escolhas_antes:\n",
        "        if escolha:\n",
        "            escolhas_antes_contagem[escolha.nome] += 1\n",
        "\n",
        "    for escolha in escolhas_depois:\n",
        "        if escolha:\n",
        "            escolhas_depois_contagem[escolha.nome] += 1\n",
        "\n",
        "    return escolhas_antes_contagem, escolhas_depois_contagem\n",
        "\n",
        "# Relatório dos resultados do Teste A/B\n",
        "def relatorio_resultados(escolhas_antes_contagem, escolhas_depois_contagem):\n",
        "    print(\"Relatório de Resultados do Teste A/B\")\n",
        "    print(\"===================================\")\n",
        "    print(\"Escolhas Antes da Alteração:\")\n",
        "    for jogo, contagem in escolhas_antes_contagem.items():\n",
        "        print(f\"{jogo}: {contagem} escolhas\")\n",
        "\n",
        "    print(\"\\nEscolhas Depois da Alteração:\")\n",
        "    for jogo, contagem in escolhas_depois_contagem.items():\n",
        "        print(f\"{jogo}: {contagem} escolhas\")\n",
        "\n",
        "    print(\"\\nAnálise:\")\n",
        "    for jogo in escolhas_antes_contagem.keys():\n",
        "        diferenca = escolhas_depois_contagem[jogo] - escolhas_antes_contagem[jogo]\n",
        "        print(f\"O jogo {jogo} teve uma variação de {diferenca} escolhas após a alteração.\")\n",
        "\n",
        "# Função principal que executa o teste A/B\n",
        "def main():\n",
        "    escolhas_antes, escolhas_depois = coletar_dados_teste_ab()\n",
        "    escolhas_antes_contagem, escolhas_depois_contagem = analisar_resultados(escolhas_antes, escolhas_depois)\n",
        "    relatorio_resultados(escolhas_antes_contagem, escolhas_depois_contagem)\n",
        "\n",
        "if __name__ == \"__main__\":\n",
        "    main()"
      ]
    },
    {
      "cell_type": "markdown",
      "source": [
        "# Explicação das Implementações\n",
        "\n",
        "**Alteração a ser Testada:** Na função aplicar_teste_ab, alteramos o tempo médio de jogo do \"Jogo A\" para 60 minutos.\n",
        "\n",
        "**Coleta de Dados:** Na função coletar_dados_teste_ab, coletamos as escolhas dos usuários antes e depois da alteração.\n",
        "\n",
        "**Análise dos Resultados:** Na função analisar_resultados, comparamos as contagens de escolhas antes e depois da alteração.\n",
        "\n",
        "**Relatório:** Na função relatorio_resultados, geramos um relatório que mostra as escolhas antes e depois da alteração e a variação nas escolhas."
      ],
      "metadata": {
        "id": "dq3kdA0X3Nzc"
      }
    }
  ]
}